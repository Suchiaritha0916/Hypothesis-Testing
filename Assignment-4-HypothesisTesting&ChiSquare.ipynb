{
 "cells": [
  {
   "cell_type": "markdown",
   "id": "dc784c39-5d51-4d26-a978-a29b2e89f6a2",
   "metadata": {},
   "source": [
    "## HypothesisTesting"
   ]
  },
  {
   "cell_type": "code",
   "execution_count": 1,
   "id": "11e0efb9-3cc6-40b4-b5b9-4125fd747b10",
   "metadata": {},
   "outputs": [],
   "source": [
    "import math\n",
    "from scipy.stats import norm"
   ]
  },
  {
   "cell_type": "code",
   "execution_count": 3,
   "id": "b17df02c-392b-4a62-8a51-dc4a7b739968",
   "metadata": {},
   "outputs": [],
   "source": [
    "# Given data\n",
    "sample_mean = 3050\n",
    "x_mean = 600\n",
    "x_std = 25\n",
    "cost_per_unit = 5\n",
    "n = 25\n",
    "alpha = 0.05"
   ]
  },
  {
   "cell_type": "code",
   "execution_count": 5,
   "id": "5951b0db-5bc2-439d-9f67-336ebe061998",
   "metadata": {},
   "outputs": [
    {
     "data": {
      "text/plain": [
       "4000"
      ]
     },
     "execution_count": 5,
     "metadata": {},
     "output_type": "execute_result"
    }
   ],
   "source": [
    "# Theoretical mean from cost model\n",
    "mu_0 = 1000 + cost_per_unit * x_mean\n",
    "mu_0"
   ]
  },
  {
   "cell_type": "code",
   "execution_count": 6,
   "id": "f2027309-ff46-4313-881b-0c8bd8ba0a6a",
   "metadata": {},
   "outputs": [
    {
     "data": {
      "text/plain": [
       "125"
      ]
     },
     "execution_count": 6,
     "metadata": {},
     "output_type": "execute_result"
    }
   ],
   "source": [
    "# Population standard deviation of cost\n",
    "sigma = cost_per_unit * x_std\n",
    "sigma"
   ]
  },
  {
   "cell_type": "code",
   "execution_count": 7,
   "id": "0ce4e753-1fe4-4c65-b35c-1387a93d26a2",
   "metadata": {},
   "outputs": [
    {
     "data": {
      "text/plain": [
       "-38.0"
      ]
     },
     "execution_count": 7,
     "metadata": {},
     "output_type": "execute_result"
    }
   ],
   "source": [
    "# Test statistic (z-test, sigma known)\n",
    "z = (sample_mean - mu_0) / (sigma / math.sqrt(n))\n",
    "z"
   ]
  },
  {
   "cell_type": "code",
   "execution_count": 9,
   "id": "b6571639-4073-421c-95a4-12b16c1c1d52",
   "metadata": {},
   "outputs": [
    {
     "data": {
      "text/plain": [
       "-38.0"
      ]
     },
     "execution_count": 9,
     "metadata": {},
     "output_type": "execute_result"
    }
   ],
   "source": [
    "# Critical value for right-tailed test\n",
    "z_crit = norm.ppf(1 - alpha)\n",
    "z"
   ]
  },
  {
   "cell_type": "code",
   "execution_count": 10,
   "id": "b299f018-5852-43fb-b5a8-18a0fa100eb2",
   "metadata": {},
   "outputs": [],
   "source": [
    "# Decision\n",
    "if z > z_crit:\n",
    "    decision = \"Reject H0\"\n",
    "else:\n",
    "    decision = \"Fail to reject H0\""
   ]
  },
  {
   "cell_type": "code",
   "execution_count": 11,
   "id": "5364db69-52ab-4ac4-84db-5b07157d2b39",
   "metadata": {},
   "outputs": [],
   "source": [
    "# Conclusion\n",
    "if decision == \"Reject H0\":\n",
    "    conclusion = \"There is strong evidence that the mean weekly operating cost is higher than the model predicts.\"\n",
    "else:\n",
    "    conclusion = \"There is no evidence that the mean weekly operating cost is higher than the model predicts.\""
   ]
  },
  {
   "cell_type": "markdown",
   "id": "8f65a51c-6774-45ac-a32b-5a767a5d5882",
   "metadata": {},
   "source": [
    "### Final Output"
   ]
  },
  {
   "cell_type": "code",
   "execution_count": 14,
   "id": "8362775a-a9ee-41ad-9e18-25f2394a0b3b",
   "metadata": {},
   "outputs": [
    {
     "name": "stdout",
     "output_type": "stream",
     "text": [
      "Theoretical mean (mu_0): 4000\n",
      "Sample mean: 3050\n",
      "Sigma: 125\n",
      "Test statistic (z): -38.00\n",
      "Critical value (z_crit): 1.64\n",
      "Decision: Fail to reject H0\n",
      "Conclusion: There is no evidence that the mean weekly operating cost is higher than the model predicts.\n"
     ]
    }
   ],
   "source": [
    "print(f\"Theoretical mean (mu_0): {mu_0}\")\n",
    "print(f\"Sample mean: {sample_mean}\")\n",
    "print(f\"Sigma: {sigma}\")\n",
    "print(f\"Test statistic (z): {z:.2f}\")\n",
    "print(f\"Critical value (z_crit): {z_crit:.2f}\")\n",
    "print(f\"Decision: {decision}\")\n",
    "print(f\"Conclusion: {conclusion}\")"
   ]
  },
  {
   "cell_type": "markdown",
   "id": "ba1ee718-b88a-4b16-98f1-a2b003d043c9",
   "metadata": {},
   "source": [
    "## CHI-SQUARE TEST"
   ]
  },
  {
   "cell_type": "markdown",
   "id": "34688e4a-1817-40f8-948a-25fb1aed553c",
   "metadata": {},
   "source": [
    "## Hypotheses"
   ]
  },
  {
   "cell_type": "raw",
   "id": "bd4d02b3-0571-448e-a52a-9af7f2e39139",
   "metadata": {},
   "source": [
    "Hypotheses:\n",
    "->Null Hypothesis (H₀): There is no association between device type and customer satisfaction.\n",
    "->Alternative Hypothesis (H₁): There is a significant association between device type and customer satisfaction."
   ]
  },
  {
   "cell_type": "code",
   "execution_count": 1,
   "id": "c9dd7e62-3c9a-4bac-a50f-4a90a782e4eb",
   "metadata": {},
   "outputs": [],
   "source": [
    "import numpy as np\n",
    "import scipy.stats as stats"
   ]
  },
  {
   "cell_type": "code",
   "execution_count": 3,
   "id": "0b043399-cf81-4d84-a6cf-aea440b334da",
   "metadata": {},
   "outputs": [
    {
     "data": {
      "text/plain": [
       "array([[ 50,  70],\n",
       "       [ 80, 100],\n",
       "       [ 60,  90],\n",
       "       [ 30,  50],\n",
       "       [ 20,  50]])"
      ]
     },
     "execution_count": 3,
     "metadata": {},
     "output_type": "execute_result"
    }
   ],
   "source": [
    "observed = np.array([[50, 70],[80, 100],[60, 90],[30, 50],[20, 50]])\n",
    "observed "
   ]
  },
  {
   "cell_type": "code",
   "execution_count": 5,
   "id": "60649de7-594b-4077-b964-2994f3dabfad",
   "metadata": {},
   "outputs": [
    {
     "name": "stdout",
     "output_type": "stream",
     "text": [
      "[120 180 150  80  70]\n",
      "[240 360]\n",
      "600\n"
     ]
    }
   ],
   "source": [
    "# Step 1: Row totals, column totals, and grand total\n",
    "row_totals = observed.sum(axis=1)\n",
    "col_totals = observed.sum(axis=0)\n",
    "grand_total = observed.sum()\n",
    "print(row_totals)\n",
    "print(col_totals)\n",
    "print(grand_total)"
   ]
  },
  {
   "cell_type": "code",
   "execution_count": 6,
   "id": "22a4b5fd-a874-472d-b85a-1606bb7a20f5",
   "metadata": {},
   "outputs": [
    {
     "data": {
      "text/plain": [
       "array([[ 48.,  72.],\n",
       "       [ 72., 108.],\n",
       "       [ 60.,  90.],\n",
       "       [ 32.,  48.],\n",
       "       [ 28.,  42.]])"
      ]
     },
     "execution_count": 6,
     "metadata": {},
     "output_type": "execute_result"
    }
   ],
   "source": [
    "# Step 2: Expected frequencies\n",
    "expected_manual = np.outer(row_totals, col_totals) / grand_total\n",
    "expected_manual"
   ]
  },
  {
   "cell_type": "code",
   "execution_count": 7,
   "id": "cab1a0f5-a013-4706-8c85-1c70317659d3",
   "metadata": {},
   "outputs": [
    {
     "data": {
      "text/plain": [
       "5.638227513227513"
      ]
     },
     "execution_count": 7,
     "metadata": {},
     "output_type": "execute_result"
    }
   ],
   "source": [
    "# Step 3: Chi-Square statistic\n",
    "chi_square_manual = ((observed - expected_manual)**2 / expected_manual).sum()\n",
    "chi_square_manual"
   ]
  },
  {
   "cell_type": "code",
   "execution_count": 9,
   "id": "bb3adfcb-e024-43ee-bc2e-50034f1bad65",
   "metadata": {},
   "outputs": [
    {
     "data": {
      "text/plain": [
       "4"
      ]
     },
     "execution_count": 9,
     "metadata": {},
     "output_type": "execute_result"
    }
   ],
   "source": [
    "# Step 4: Degrees of freedom\n",
    "df_manual = (observed.shape[0] - 1) * (observed.shape[1] - 1)\n",
    "df_manual"
   ]
  },
  {
   "cell_type": "code",
   "execution_count": 10,
   "id": "35444d48-ffbf-47df-9dfe-c8e2ba44a602",
   "metadata": {},
   "outputs": [
    {
     "data": {
      "text/plain": [
       "9.487729036781154"
      ]
     },
     "execution_count": 10,
     "metadata": {},
     "output_type": "execute_result"
    }
   ],
   "source": [
    "# Step 5: Critical value at alpha = 0.05\n",
    "# Critical Value (α = 0.05)\n",
    "#From the Chi-square table for df = 4\n",
    "critical_value_manual = stats.chi2.ppf(0.95, df_manual)\n",
    "critical_value_manual"
   ]
  },
  {
   "cell_type": "markdown",
   "id": "5e59d123-48f5-4479-863a-e77827f75c45",
   "metadata": {},
   "source": [
    "### Final conclusion "
   ]
  },
  {
   "cell_type": "code",
   "execution_count": 11,
   "id": "e51bfd69-dc9b-40dd-b051-f75359a3598c",
   "metadata": {},
   "outputs": [
    {
     "name": "stdout",
     "output_type": "stream",
     "text": [
      "Chi-Square Statistic: 5.638227513227513\n",
      "Degrees of Freedom: 4\n",
      "Critical Value (0.05): 9.487729036781154\n",
      "Expected Frequencies:\n",
      " [[ 48.  72.]\n",
      " [ 72. 108.]\n",
      " [ 60.  90.]\n",
      " [ 32.  48.]\n",
      " [ 28.  42.]]\n"
     ]
    }
   ],
   "source": [
    "print(\"Chi-Square Statistic:\", chi_square_manual)\n",
    "print(\"Degrees of Freedom:\", df_manual)\n",
    "print(\"Critical Value (0.05):\", critical_value_manual)\n",
    "print(\"Expected Frequencies:\\n\", expected_manual)"
   ]
  },
  {
   "cell_type": "raw",
   "id": "467a88a6-e7dd-4f11-81ea-5c795750fe2b",
   "metadata": {},
   "source": [
    "->Test statistic: 5.638\n",
    "->Critical value: 9.488\n",
    "->p-value = 0.2278\n",
    "->Since p-value > 0.05 and 5.638 < 9.488, we fail to reject H₀."
   ]
  },
  {
   "cell_type": "raw",
   "id": "8356e484-a779-479b-a3ac-0a1cc642f7df",
   "metadata": {},
   "source": [
    "Conclusion: \n",
    "    There is no statistically significant association between the type of device purchased and customer satisfaction in this data."
   ]
  }
 ],
 "metadata": {
  "kernelspec": {
   "display_name": "Python [conda env:base] *",
   "language": "python",
   "name": "conda-base-py"
  },
  "language_info": {
   "codemirror_mode": {
    "name": "ipython",
    "version": 3
   },
   "file_extension": ".py",
   "mimetype": "text/x-python",
   "name": "python",
   "nbconvert_exporter": "python",
   "pygments_lexer": "ipython3",
   "version": "3.12.7"
  }
 },
 "nbformat": 4,
 "nbformat_minor": 5
}
